{
 "cells": [
  {
   "cell_type": "markdown",
   "metadata": {},
   "source": [
    "# Google API"
   ]
  },
  {
   "cell_type": "code",
   "execution_count": 21,
   "metadata": {},
   "outputs": [],
   "source": [
    "from urllib.parse import urlencode,urlparse, parse_qsl\n",
    "import os,requests\n",
    "from dotenv import load_dotenv\n",
    "load_dotenv()\n",
    "api_key = os.getenv(\"GOOGLE_KEY\")"
   ]
  },
  {
   "cell_type": "markdown",
   "metadata": {},
   "source": [
    "# Geocoding API"
   ]
  },
  {
   "cell_type": "markdown",
   "metadata": {},
   "source": [
    "#### Returns lat and lng of a specific place"
   ]
  },
  {
   "cell_type": "code",
   "execution_count": 15,
   "metadata": {},
   "outputs": [],
   "source": [
    "def extract_lat_lon(place):\n",
    "    data_type = 'json'\n",
    "    endpoint = f\"https://maps.googleapis.com/maps/api/geocode/{data_type}\"\n",
    "    params = {\"address\":place,\"key\": api_key}       # Parameters\n",
    "    url_params = urlencode(params)                  # Convert to url formal\n",
    "    url = f\"{endpoint}?{url_params}\"                # Final url\n",
    "    r = requests.get(url)\n",
    "    if r.status_code not in range(200,299):                                      \n",
    "        return {} \n",
    "    latlng = {}\n",
    "    try:\n",
    "        latlng = r.json()['results'][0]['geometry']['location']                 \n",
    "    except:\n",
    "        pass\n",
    "    return latlng.get(\"lat\"),latlng.get(\"lng\")"
   ]
  },
  {
   "cell_type": "code",
   "execution_count": 16,
   "metadata": {},
   "outputs": [
    {
     "data": {
      "text/plain": [
       "(37.42165019999999, -122.0856843)"
      ]
     },
     "execution_count": 16,
     "metadata": {},
     "output_type": "execute_result"
    }
   ],
   "source": [
    "extract_lat_lon(\"1600 Amphitheatre Parkway, Mountain View, CA\")"
   ]
  },
  {
   "cell_type": "markdown",
   "metadata": {},
   "source": [
    "# Places API : Search Place"
   ]
  },
  {
   "cell_type": "markdown",
   "metadata": {},
   "source": [
    "#### Get the closest match from a location in a radius"
   ]
  },
  {
   "cell_type": "code",
   "execution_count": null,
   "metadata": {},
   "outputs": [],
   "source": [
    "lat, lng = 37.42230960000001, -122.0846244\n",
    "base_endpoint_places = \"https://maps.googleapis.com/maps/api/place/findplacefromtext/json\"\n",
    "params = {\n",
    "    \"key\": api_key,\n",
    "    \"input\": \"Mexican food\",\n",
    "    \"inputtype\": \"textquery\",\n",
    "    \"fields\": \"place_id,formatted_address,name,geometry,permanently_closed\"\n",
    "}\n",
    "locationbias = f\"point:{lat},{lng}\"\n",
    "use_cirular = True\n",
    "if use_cirular:\n",
    "    radius = 5000\n",
    "    locationbias = f\"circle:{radius}@{lat},{lng}\"\n",
    "\n",
    "params['locationbias'] = locationbias\n",
    "\n",
    "params_encoded = urlencode(params)\n",
    "places_endpoint = f\"{base_endpoint_places}?{params_encoded}\"\n"
   ]
  },
  {
   "cell_type": "markdown",
   "metadata": {},
   "source": [
    " "
   ]
  },
  {
   "cell_type": "markdown",
   "metadata": {},
   "source": [
    " # Places API : Nearby"
   ]
  },
  {
   "cell_type": "markdown",
   "metadata": {},
   "source": [
    "#### Get a dictionary of locations in a radius searching by keyword"
   ]
  },
  {
   "cell_type": "code",
   "execution_count": 25,
   "metadata": {},
   "outputs": [],
   "source": [
    "places_endpoint = \"https://maps.googleapis.com/maps/api/place/nearbysearch/json\"\n",
    "params = {\n",
    "    \"key\": api_key,\n",
    "    \"location\": f\"{lat},{lng}\",\n",
    "    \"radius\": 1500,\n",
    "    \"keyword\": \"Mexican food\"\n",
    "}\n",
    "params_encoded = urlencode(params)\n",
    "places_url = f\"{places_endpoint}?{params_encoded}\"\n",
    "\n",
    "r = requests.get(places_url)\n"
   ]
  },
  {
   "cell_type": "code",
   "execution_count": null,
   "metadata": {},
   "outputs": [],
   "source": []
  },
  {
   "cell_type": "code",
   "execution_count": null,
   "metadata": {},
   "outputs": [],
   "source": []
  },
  {
   "cell_type": "code",
   "execution_count": null,
   "metadata": {},
   "outputs": [],
   "source": []
  },
  {
   "cell_type": "code",
   "execution_count": null,
   "metadata": {},
   "outputs": [],
   "source": []
  },
  {
   "cell_type": "code",
   "execution_count": null,
   "metadata": {},
   "outputs": [],
   "source": []
  }
 ],
 "metadata": {
  "kernelspec": {
   "display_name": "Python 3",
   "language": "python",
   "name": "python3"
  },
  "language_info": {
   "codemirror_mode": {
    "name": "ipython",
    "version": 3
   },
   "file_extension": ".py",
   "mimetype": "text/x-python",
   "name": "python",
   "nbconvert_exporter": "python",
   "pygments_lexer": "ipython3",
   "version": "3.8.6"
  }
 },
 "nbformat": 4,
 "nbformat_minor": 4
}
